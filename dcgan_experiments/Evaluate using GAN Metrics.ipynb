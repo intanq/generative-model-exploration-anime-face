{
 "cells": [
  {
   "cell_type": "code",
   "execution_count": 1,
   "id": "ad99837a",
   "metadata": {},
   "outputs": [],
   "source": [
    "from pytorch_gan_metrics import (\n",
    "    get_inception_score_from_directory,\n",
    "    get_fid_from_directory,\n",
    "    get_inception_score_and_fid_from_directory)"
   ]
  },
  {
   "cell_type": "code",
   "execution_count": 15,
   "id": "b3228fdc",
   "metadata": {},
   "outputs": [],
   "source": [
    "from tqdm import tqdm"
   ]
  },
  {
   "cell_type": "code",
   "execution_count": 16,
   "id": "c30a85fc",
   "metadata": {},
   "outputs": [],
   "source": [
    "expIDs = ['exp001', 'exp002', 'exp003', 'exp004']\n",
    "gan_metrics = {}\n",
    "\n",
    "for i in expIDs:\n",
    "    IS, IS_std = get_inception_score_from_directory(f'fake_images/dcgan_{i}')\n",
    "    FID = get_fid_from_directory(f'fake_images/dcgan_{i}', f'stats/stats_dcgan_{i}.npz')\n",
    "    gan_metrics[i] = {'IS': IS, 'IS_std': IS_std, 'FID': FID}"
   ]
  },
  {
   "cell_type": "code",
   "execution_count": 17,
   "id": "7a873ad7",
   "metadata": {},
   "outputs": [
    {
     "data": {
      "text/plain": [
       "{'exp001': {'IS': 1.8665852571581663,\n",
       "  'IS_std': 0.17062708597740237,\n",
       "  'FID': 257.31655713961067},\n",
       " 'exp002': {'IS': 1.974172012378699,\n",
       "  'IS_std': 0.28386529746676303,\n",
       "  'FID': 251.2113789374092},\n",
       " 'exp003': {'IS': 1.9460493112335695,\n",
       "  'IS_std': 0.2539297621704737,\n",
       "  'FID': 267.23891789236075},\n",
       " 'exp004': {'IS': 2.1487099087824513,\n",
       "  'IS_std': 0.14311869369948085,\n",
       "  'FID': 269.53773848494467}}"
      ]
     },
     "execution_count": 17,
     "metadata": {},
     "output_type": "execute_result"
    }
   ],
   "source": [
    "gan_metrics"
   ]
  },
  {
   "cell_type": "markdown",
   "id": "c950fd73",
   "metadata": {},
   "source": [
    "IS => the bigger the better; evaluate the quality and diversity of generated images\n",
    "\n",
    "FID => the lower the better"
   ]
  },
  {
   "cell_type": "code",
   "execution_count": null,
   "id": "d766616d",
   "metadata": {},
   "outputs": [],
   "source": []
  },
  {
   "cell_type": "code",
   "execution_count": null,
   "id": "81aff36d",
   "metadata": {},
   "outputs": [],
   "source": []
  }
 ],
 "metadata": {
  "kernelspec": {
   "display_name": "Python 3 (ipykernel)",
   "language": "python",
   "name": "python3"
  },
  "language_info": {
   "codemirror_mode": {
    "name": "ipython",
    "version": 3
   },
   "file_extension": ".py",
   "mimetype": "text/x-python",
   "name": "python",
   "nbconvert_exporter": "python",
   "pygments_lexer": "ipython3",
   "version": "3.10.8"
  }
 },
 "nbformat": 4,
 "nbformat_minor": 5
}
