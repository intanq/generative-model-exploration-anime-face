{
 "cells": [
  {
   "cell_type": "code",
   "execution_count": 7,
   "id": "ad99837a",
   "metadata": {},
   "outputs": [],
   "source": [
    "from pytorch_gan_metrics import (\n",
    "    get_inception_score_from_directory,\n",
    "    get_fid_from_directory,\n",
    "    get_inception_score_and_fid_from_directory)"
   ]
  },
  {
   "cell_type": "code",
   "execution_count": 8,
   "id": "b3228fdc",
   "metadata": {},
   "outputs": [],
   "source": [
    "from tqdm import tqdm"
   ]
  },
  {
   "cell_type": "code",
   "execution_count": 11,
   "id": "c30a85fc",
   "metadata": {},
   "outputs": [],
   "source": [
    "expIDs = ['vae_exp002', 'vae_exp003', 'vae_exp004']\n",
    "gan_metrics = {}\n",
    "\n",
    "for i in expIDs:\n",
    "    IS, IS_std = get_inception_score_from_directory(f'fake_images_vae/{i}')\n",
    "    FID = get_fid_from_directory(f'fake_images_vae/{i}', f'stats/vae_v2/{i}.npz')\n",
    "    gan_metrics[i] = {'IS': IS, 'IS_std': IS_std, 'FID': FID}"
   ]
  },
  {
   "cell_type": "code",
   "execution_count": 12,
   "id": "12f5fae3",
   "metadata": {},
   "outputs": [],
   "source": [
    "IS, IS_std = get_inception_score_from_directory(f'fake_images_vae/vae_model')\n",
    "FID = get_fid_from_directory(f'fake_images_vae/vae_model', f'stats/vae_v2/vae_exp001.npz')\n",
    "gan_metrics['vae_exp001'] = {'IS': IS, 'IS_std': IS_std, 'FID': FID}"
   ]
  },
  {
   "cell_type": "code",
   "execution_count": 13,
   "id": "5610a35e",
   "metadata": {},
   "outputs": [
    {
     "data": {
      "text/plain": [
       "{'vae_exp002': {'IS': 2.180934307228795,\n",
       "  'IS_std': 0.15460671854207172,\n",
       "  'FID': 302.66840054944714},\n",
       " 'vae_exp003': {'IS': 2.398457900793879,\n",
       "  'IS_std': 0.2986991800571396,\n",
       "  'FID': 307.52701995445534},\n",
       " 'vae_exp004': {'IS': 2.229963352657733,\n",
       "  'IS_std': 0.1392966377378909,\n",
       "  'FID': 302.8607417448535},\n",
       " 'vae_exp001': {'IS': 2.215882039131525,\n",
       "  'IS_std': 0.17207232896402153,\n",
       "  'FID': 297.7460784534278}}"
      ]
     },
     "execution_count": 13,
     "metadata": {},
     "output_type": "execute_result"
    }
   ],
   "source": [
    "gan_metrics"
   ]
  },
  {
   "cell_type": "code",
   "execution_count": null,
   "id": "11d07b47",
   "metadata": {},
   "outputs": [],
   "source": []
  },
  {
   "cell_type": "markdown",
   "id": "d43768e5",
   "metadata": {},
   "source": [
    "vae"
   ]
  },
  {
   "cell_type": "code",
   "execution_count": 6,
   "id": "d726d594",
   "metadata": {},
   "outputs": [
    {
     "data": {
      "text/plain": [
       "{'vae_model': {'IS': 2.215882039131525,\n",
       "  'IS_std': 0.17207232896402153,\n",
       "  'FID': 297.7460784534278},\n",
       " 'vae_exp002': {'IS': 2.180934307228795,\n",
       "  'IS_std': 0.15460671854207172,\n",
       "  'FID': 302.66840054944714},\n",
       " 'vae_exp003': {'IS': 2.398457900793879,\n",
       "  'IS_std': 0.2986991800571396,\n",
       "  'FID': 307.52701995445534},\n",
       " 'vae_exp004': {'IS': 2.229963352657733,\n",
       "  'IS_std': 0.1392966377378909,\n",
       "  'FID': 302.8607417448535}}"
      ]
     },
     "execution_count": 6,
     "metadata": {},
     "output_type": "execute_result"
    }
   ],
   "source": [
    "gan_metrics"
   ]
  },
  {
   "cell_type": "markdown",
   "id": "cc27140e",
   "metadata": {},
   "source": [
    "gan"
   ]
  },
  {
   "cell_type": "code",
   "execution_count": 17,
   "id": "7a873ad7",
   "metadata": {},
   "outputs": [
    {
     "data": {
      "text/plain": [
       "{'exp001': {'IS': 1.8665852571581663,\n",
       "  'IS_std': 0.17062708597740237,\n",
       "  'FID': 257.31655713961067},\n",
       " 'exp002': {'IS': 1.974172012378699,\n",
       "  'IS_std': 0.28386529746676303,\n",
       "  'FID': 251.2113789374092},\n",
       " 'exp003': {'IS': 1.9460493112335695,\n",
       "  'IS_std': 0.2539297621704737,\n",
       "  'FID': 267.23891789236075},\n",
       " 'exp004': {'IS': 2.1487099087824513,\n",
       "  'IS_std': 0.14311869369948085,\n",
       "  'FID': 269.53773848494467}}"
      ]
     },
     "execution_count": 17,
     "metadata": {},
     "output_type": "execute_result"
    }
   ],
   "source": [
    "gan_metrics"
   ]
  },
  {
   "cell_type": "markdown",
   "id": "c950fd73",
   "metadata": {},
   "source": [
    "IS => the bigger the better; evaluate the quality and diversity of generated images\n",
    "\n",
    "FID => the lower the better"
   ]
  },
  {
   "cell_type": "code",
   "execution_count": null,
   "id": "d766616d",
   "metadata": {},
   "outputs": [],
   "source": []
  },
  {
   "cell_type": "code",
   "execution_count": null,
   "id": "81aff36d",
   "metadata": {},
   "outputs": [],
   "source": []
  }
 ],
 "metadata": {
  "kernelspec": {
   "display_name": "Python 3 (ipykernel)",
   "language": "python",
   "name": "python3"
  },
  "language_info": {
   "codemirror_mode": {
    "name": "ipython",
    "version": 3
   },
   "file_extension": ".py",
   "mimetype": "text/x-python",
   "name": "python",
   "nbconvert_exporter": "python",
   "pygments_lexer": "ipython3",
   "version": "3.10.8"
  }
 },
 "nbformat": 4,
 "nbformat_minor": 5
}
