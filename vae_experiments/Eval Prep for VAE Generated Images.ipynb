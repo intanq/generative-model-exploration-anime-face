{
 "cells": [
  {
   "cell_type": "code",
   "execution_count": 1,
   "id": "3e65112a",
   "metadata": {},
   "outputs": [],
   "source": [
    "import torch\n",
    "import torch.nn as nn\n",
    "import torchvision.utils as vutils\n",
    "import numpy as np\n",
    "import matplotlib.pyplot as plt"
   ]
  },
  {
   "cell_type": "code",
   "execution_count": 4,
   "id": "9f168233",
   "metadata": {},
   "outputs": [],
   "source": [
    "# Hyperparameters\n",
    "image_size = 64\n",
    "latent_dim = 100\n",
    "hidden_dim = 256\n",
    "batch_size = 128\n",
    "epochs = 50\n",
    "learning_rate = 1e-3\n",
    "dataroot = 'data/'\n",
    "ngpu = 1"
   ]
  },
  {
   "cell_type": "code",
   "execution_count": 5,
   "id": "f23bb1bb",
   "metadata": {},
   "outputs": [
    {
     "data": {
      "text/plain": [
       "device(type='cuda', index=0)"
      ]
     },
     "execution_count": 5,
     "metadata": {},
     "output_type": "execute_result"
    }
   ],
   "source": [
    "device = torch.device(\"cuda:0\" if (torch.cuda.is_available() and ngpu > 0) else \"cpu\")\n",
    "device"
   ]
  },
  {
   "cell_type": "markdown",
   "id": "da4d4c6e",
   "metadata": {},
   "source": [
    "## Encoder Model"
   ]
  },
  {
   "cell_type": "code",
   "execution_count": 6,
   "id": "b4849163",
   "metadata": {},
   "outputs": [],
   "source": [
    "class Encoder(nn.Module):\n",
    "    def __init__(self, latent_dim):\n",
    "        super(Encoder, self).__init__()\n",
    "        self.conv = nn.Sequential(\n",
    "            nn.Conv2d(3, 32, 4, 2, 1),   # input shape: 3 x 64 x 64, output shape: 32 x 32 x 32\n",
    "            nn.ReLU(),\n",
    "            nn.Conv2d(32, 64, 4, 2, 1),  # input shape: 32 x 32 x 32, output shape: 64 x 16 x 16\n",
    "            nn.ReLU(),\n",
    "            nn.Conv2d(64, 128, 4, 2, 1), # input shape: 64 x 16 x 16, output shape: 128 x 8 x 8\n",
    "            nn.ReLU(),\n",
    "            nn.Conv2d(128, 256, 4, 2, 1),# input shape: 128 x 8 x 8, output shape: 256 x 4 x 4\n",
    "            nn.ReLU()\n",
    "        )\n",
    "        self.fc_mu = nn.Linear(256 * 4 * 4, latent_dim)\n",
    "        self.fc_logvar = nn.Linear(256 * 4 * 4, latent_dim)\n",
    "\n",
    "    def forward(self, x):\n",
    "        x = self.conv(x)\n",
    "        x = x.view(x.size(0), -1)\n",
    "        mu = self.fc_mu(x)\n",
    "        logvar = self.fc_logvar(x)\n",
    "        return mu, logvar"
   ]
  },
  {
   "cell_type": "markdown",
   "id": "67b6f034",
   "metadata": {},
   "source": [
    "## Decoder Model"
   ]
  },
  {
   "cell_type": "code",
   "execution_count": 7,
   "id": "89c28e66",
   "metadata": {},
   "outputs": [],
   "source": [
    "class Decoder(nn.Module):\n",
    "    def __init__(self, latent_dim):\n",
    "        super(Decoder, self).__init__()\n",
    "        self.fc = nn.Sequential(\n",
    "            nn.Linear(latent_dim, hidden_dim),\n",
    "            nn.ReLU(),\n",
    "            nn.Linear(hidden_dim, 256 * 4 * 4),\n",
    "            nn.ReLU()\n",
    "        )\n",
    "        self.deconv = nn.Sequential(\n",
    "            nn.ConvTranspose2d(256, 128, 4, 2, 1),  # input shape: 256 x 4 x 4, output shape: 128 x 8 x 8\n",
    "            nn.ReLU(),\n",
    "            nn.ConvTranspose2d(128, 64, 4, 2, 1),   # input shape: 128 x 8 x 8, output shape: 64 x 16 x 16\n",
    "            nn.ReLU(),\n",
    "            nn.ConvTranspose2d(64, 32, 4, 2, 1),    # input shape: 64 x 16 x 16, output shape: 32 x 32 x 32\n",
    "            nn.ReLU(),\n",
    "            nn.ConvTranspose2d(32, 3, 4, 2, 1),     # input shape: 32 x 32 x 32, output shape: 3 x 64 x 64\n",
    "            nn.Tanh()\n",
    "        )\n",
    "        \n",
    "    def forward(self, z):\n",
    "        x = self.fc(z)\n",
    "        x = x.view(x.size(0), 256, 4, 4)\n",
    "        x = self.deconv(x)\n",
    "        return x"
   ]
  },
  {
   "cell_type": "markdown",
   "id": "6b4abb43",
   "metadata": {},
   "source": [
    "## VAE Model"
   ]
  },
  {
   "cell_type": "code",
   "execution_count": 8,
   "id": "25d37492",
   "metadata": {},
   "outputs": [],
   "source": [
    "class VAE(nn.Module):\n",
    "    def __init__(self, latent_dim):\n",
    "        super(VAE, self).__init__()\n",
    "        self.encoder = Encoder(latent_dim)\n",
    "        self.decoder = Decoder(latent_dim)\n",
    "\n",
    "    def reparameterize(self, mu, logvar):\n",
    "        std = torch.exp(0.5 * logvar)\n",
    "        eps = torch.randn_like(std)\n",
    "        z = mu + eps * std\n",
    "        return z\n",
    "\n",
    "    def forward(self, x):\n",
    "        mu, logvar = self.encoder(x)\n",
    "        z = self.reparameterize(mu, logvar)\n",
    "        reconstructed_x = self.decoder(z)\n",
    "        return reconstructed_x, mu, logvar"
   ]
  },
  {
   "cell_type": "markdown",
   "id": "03a62f41",
   "metadata": {},
   "source": [
    "# Load Trained Model"
   ]
  },
  {
   "cell_type": "code",
   "execution_count": 9,
   "id": "7e070a33",
   "metadata": {},
   "outputs": [],
   "source": [
    "from tqdm import tqdm"
   ]
  },
  {
   "cell_type": "code",
   "execution_count": 17,
   "id": "8c27dcef",
   "metadata": {},
   "outputs": [],
   "source": [
    "experiment_ids = ['vae_model', 'vae_exp002', 'vae_exp003', 'vae_exp004']\n",
    "latent_dims = [100, 100, 200, 200]"
   ]
  },
  {
   "cell_type": "code",
   "execution_count": 26,
   "id": "f4b1409b",
   "metadata": {},
   "outputs": [],
   "source": [
    "def load_trained_model(expID, ngpu=1, device=device, latent_dim=100):\n",
    "    torch.cuda.empty_cache()\n",
    "    model = VAE(latent_dim).to(device)\n",
    "    model.load_state_dict(torch.load(f'{expID}.pth'))\n",
    "    model.eval()\n",
    "    print('model is loaded!')\n",
    "    return model"
   ]
  },
  {
   "cell_type": "code",
   "execution_count": 27,
   "id": "050de0b7",
   "metadata": {},
   "outputs": [],
   "source": [
    "def generate_images(model, expID, num_images=25, latent_dim=100):\n",
    "    for i in range(num_images):\n",
    "        with torch.no_grad():\n",
    "            noise = torch.randn(1, latent_dim).to(device)\n",
    "            fake = model.decoder(noise).detach().cpu()\n",
    "            fake_img = vutils.make_grid(fake, padding=2, normalize=True)\n",
    "            transposed = np.transpose(vutils.make_grid(fake_img, padding=5, normalize=True).cpu(),(1,2,0))\n",
    "            plt.imshow(transposed)\n",
    "            plt.axis('off')\n",
    "            plt.savefig(f'fake_images_vae/{expID}/images/image{i}.png')"
   ]
  },
  {
   "cell_type": "code",
   "execution_count": 28,
   "id": "7c238a6d",
   "metadata": {},
   "outputs": [
    {
     "name": "stderr",
     "output_type": "stream",
     "text": [
      "\r",
      "0it [00:00, ?it/s]"
     ]
    },
    {
     "name": "stdout",
     "output_type": "stream",
     "text": [
      "model is loaded!\n"
     ]
    },
    {
     "name": "stderr",
     "output_type": "stream",
     "text": [
      "\r",
      "1it [03:31, 211.36s/it]"
     ]
    },
    {
     "name": "stdout",
     "output_type": "stream",
     "text": [
      "model is loaded!\n"
     ]
    },
    {
     "name": "stderr",
     "output_type": "stream",
     "text": [
      "2it [14:01, 420.71s/it]\n"
     ]
    },
    {
     "data": {
      "image/png": "[encoded data removed]",
      "text/plain": [
       "<Figure size 640x480 with 1 Axes>"
      ]
     },
     "metadata": {},
     "output_type": "display_data"
    }
   ],
   "source": [
    "for expID, ld in tqdm(zip(['vae_exp003', 'vae_exp004'], [200, 200])):\n",
    "    model = load_trained_model(expID, latent_dim=ld)\n",
    "    generate_images(model, expID, num_images=250, latent_dim=ld)"
   ]
  },
  {
   "cell_type": "code",
   "execution_count": null,
   "id": "d9f77800",
   "metadata": {},
   "outputs": [],
   "source": []
  },
  {
   "cell_type": "code",
   "execution_count": null,
   "id": "5897e983",
   "metadata": {},
   "outputs": [],
   "source": []
  },
  {
   "cell_type": "code",
   "execution_count": 21,
   "id": "cdad7686",
   "metadata": {},
   "outputs": [],
   "source": [
    "with torch.no_grad():\n",
    "    fixed_noise = torch.randn(1, latent_dim).to(device)\n",
    "    img = loaded.decoder(fixed_noise).cpu()"
   ]
  },
  {
   "cell_type": "code",
   "execution_count": 22,
   "id": "b4b499ed",
   "metadata": {},
   "outputs": [
    {
     "data": {
      "text/plain": [
       "(-0.5, 63.5, 63.5, -0.5)"
      ]
     },
     "execution_count": 22,
     "metadata": {},
     "output_type": "execute_result"
    },
    {
     "data": {
      "image/png": "[encoded data removed]",
      "text/plain": [
       "<Figure size 640x480 with 1 Axes>"
      ]
     },
     "metadata": {},
     "output_type": "display_data"
    }
   ],
   "source": [
    "fake_img = vutils.make_grid(img, padding=2, normalize=True)\n",
    "transposed = np.transpose(vutils.make_grid(fake_img, padding=5, normalize=True).cpu(),(1,2,0))\n",
    "plt.imshow(transposed)\n",
    "plt.axis('off')"
   ]
  },
  {
   "cell_type": "code",
   "execution_count": null,
   "id": "9a48e6c1",
   "metadata": {},
   "outputs": [],
   "source": []
  }
 ],
 "metadata": {
  "kernelspec": {
   "display_name": "Python 3 (ipykernel)",
   "language": "python",
   "name": "python3"
  },
  "language_info": {
   "codemirror_mode": {
    "name": "ipython",
    "version": 3
   },
   "file_extension": ".py",
   "mimetype": "text/x-python",
   "name": "python",
   "nbconvert_exporter": "python",
   "pygments_lexer": "ipython3",
   "version": "3.10.8"
  }
 },
 "nbformat": 4,
 "nbformat_minor": 5
}
