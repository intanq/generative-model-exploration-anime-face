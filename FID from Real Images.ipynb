{
 "cells": [
  {
   "cell_type": "code",
   "execution_count": 1,
   "id": "a373ea1a",
   "metadata": {},
   "outputs": [],
   "source": [
    "from pytorch_gan_metrics import (\n",
    "    get_inception_score_from_directory,\n",
    "    get_fid_from_directory,\n",
    "    get_inception_score_and_fid_from_directory)"
   ]
  },
  {
   "cell_type": "code",
   "execution_count": 32,
   "id": "0bdc90f1",
   "metadata": {},
   "outputs": [],
   "source": [
    "FID = get_fid_from_directory(f'real_images', f'stats/real/real_img.npz')"
   ]
  },
  {
   "cell_type": "code",
   "execution_count": 33,
   "id": "723bb3ed",
   "metadata": {},
   "outputs": [
    {
     "data": {
      "text/plain": [
       "234.56348054465204"
      ]
     },
     "execution_count": 33,
     "metadata": {},
     "output_type": "execute_result"
    }
   ],
   "source": [
    "FID"
   ]
  },
  {
   "cell_type": "code",
   "execution_count": null,
   "id": "d72bba7d",
   "metadata": {},
   "outputs": [],
   "source": []
  }
 ],
 "metadata": {
  "kernelspec": {
   "display_name": "Python 3 (ipykernel)",
   "language": "python",
   "name": "python3"
  },
  "language_info": {
   "codemirror_mode": {
    "name": "ipython",
    "version": 3
   },
   "file_extension": ".py",
   "mimetype": "text/x-python",
   "name": "python",
   "nbconvert_exporter": "python",
   "pygments_lexer": "ipython3",
   "version": "3.10.8"
  }
 },
 "nbformat": 4,
 "nbformat_minor": 5
}
